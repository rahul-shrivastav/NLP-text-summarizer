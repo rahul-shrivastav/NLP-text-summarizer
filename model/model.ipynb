{
 "cells": [
  {
   "cell_type": "code",
   "execution_count": 1,
   "id": "2c190175",
   "metadata": {},
   "outputs": [],
   "source": [
    "import pandas as pd\n",
    "import numpy as np\n",
    "import matplotlib.pyplot as plt\n",
    "import seaborn as sns\n",
    "import tensorflow as tf\n",
    "from tensorflow.keras.preprocessing.text import Tokenizer\n",
    "from tensorflow.keras.preprocessing.sequence import pad_sequences\n",
    "\n",
    "from tensorflow.keras.layers import Embedding, LSTM, Dense, Input, InputLayer, TimeDistributed\n",
    "from tensorflow.keras.models import Sequential, Model\n",
    "from tensorflow.keras.callbacks import ModelCheckpoint, EarlyStopping\n",
    "\n",
    "from sklearn.model_selection import train_test_split\n",
    "\n",
    "import string, re"
   ]
  },
  {
   "cell_type": "code",
   "execution_count": 2,
   "id": "3784e95e",
   "metadata": {},
   "outputs": [],
   "source": [
    "summary = pd.read_csv(\"./dataset/news_summary.csv\", encoding='iso-8859-1')\n",
    "raw = pd.read_csv(\"./dataset/news_summary_more.csv\", encoding='iso-8859-1')"
   ]
  },
  {
   "cell_type": "code",
   "execution_count": 3,
   "id": "911636ff",
   "metadata": {},
   "outputs": [],
   "source": [
    "config = {'min_text_len':40,\n",
    "          'max_text_len':60,\n",
    "          'max_summary_len':30,\n",
    "          'latent_dim' : 300,\n",
    "          'embedding_dim' : 200}"
   ]
  },
  {
   "cell_type": "code",
   "execution_count": 4,
   "id": "551e1ef1",
   "metadata": {},
   "outputs": [
    {
     "name": "stdout",
     "output_type": "stream",
     "text": [
      "Before filtering: (102915, 6)\n",
      "After filtering: (54572, 6)\n"
     ]
    },
    {
     "data": {
      "text/plain": [
       "Index(['headlines', 'text', 'author', 'date', 'read_more', 'ctext'], dtype='object')"
      ]
     },
     "execution_count": 4,
     "metadata": {},
     "output_type": "execute_result"
    }
   ],
   "source": [
    "df = pd.concat([raw, summary]).reset_index(drop=True)\n",
    "\n",
    "print(f'Before filtering: {df.shape}')\n",
    "df = df.loc[((df['text'].str.split(\" \").str.len()>config['min_text_len']) & (df['text'].str.split(\" \").str.len()<config['max_text_len']))].reset_index(drop=True)\n",
    "print(f'After filtering: {df.shape}')\n",
    "df.columns"
   ]
  },
  {
   "cell_type": "code",
   "execution_count": 5,
   "id": "d5bf35d3",
   "metadata": {},
   "outputs": [],
   "source": [
    "# ran_num = np.random.randint(1, 10000)\n",
    "# print(f\"Text: {df['text'][ran_num]}\")\n",
    "\n",
    "# print(f\"Summary: {df['headlines'][ran_num]}\")\n",
    "# # print()\n",
    "# print(f\"Text length: {len(df['text'][ran_num].split())}\") \n",
    "# print(f\"Summary length: {len(df['headlines'].str.split()[1])}\")"
   ]
  },
  {
   "cell_type": "code",
   "execution_count": 6,
   "id": "82c0127f",
   "metadata": {},
   "outputs": [],
   "source": [
    "def text_strip(sentence):\n",
    "\n",
    "  sentence = re.sub(\"(\\\\t)\", \" \", str(sentence)).lower()\n",
    "  sentence = re.sub(\"(\\\\r)\", \" \", str(sentence)).lower()\n",
    "  sentence = re.sub(\"(\\\\n)\", \" \", str(sentence)).lower()\n",
    "\n",
    "  # Remove - if it occurs more than one time consecutively\n",
    "  sentence = re.sub(\"(--+)\", \" \", str(sentence)).lower()\n",
    "\n",
    "  # Remove . if it occurs more than one time consecutively\n",
    "  sentence = re.sub(\"(\\.\\.+)\", \" \", str(sentence)).lower()\n",
    "\n",
    "  # Remove the characters - <>()|&©ø\"',;?~*! (special charcter)\n",
    "  sentence = re.sub(r\"[<>()|&©ø\\[\\]\\'\\\",;?~*!]\", \" \", str(sentence)).lower()\n",
    "\n",
    "  # Remove \\x9* in text\n",
    "  sentence = re.sub(r\"(\\\\x9\\d)\", \" \", str(sentence)).lower()\n",
    "\n",
    "  # Replace CM# and CHG# to CM_NUM\n",
    "  sentence = re.sub(\"([cC][mM]\\d+)|([cC][hH][gG]\\d+)\", \"CM_NUM\", str(sentence)).lower()\n",
    "\n",
    "  # Remove punctuations at the end of a word\n",
    "  sentence = re.sub(\"(\\.\\s+)\", \" \", str(sentence)).lower()\n",
    "  sentence = re.sub(\"(\\-\\s+)\", \" \", str(sentence)).lower()\n",
    "  sentence = re.sub(\"(\\:\\s+)\", \" \", str(sentence)).lower()\n",
    "\n",
    "  # Remove multiple spaces\n",
    "  sentence = re.sub(\"(\\s+)\", \" \", str(sentence)).lower()\n",
    "  \n",
    "  return sentence"
   ]
  },
  {
   "cell_type": "code",
   "execution_count": 7,
   "id": "80f8ef52",
   "metadata": {},
   "outputs": [
    {
     "data": {
      "text/plain": [
       "0        Pakistani singer Rahat Fateh Ali Khan has deni...\n",
       "1        India recorded their lowest ODI total in New Z...\n",
       "2        Andhra Pradesh CM N Chandrababu Naidu has said...\n",
       "3        Isha Ghosh, an 81-year-old member of Bharat Sc...\n",
       "4        Filmmaker Karan Johar and actress Tabu turned ...\n",
       "                               ...                        \n",
       "54567    An investigation by India Today has unmasked a...\n",
       "54568    The Kangana Ranaut, Shahid Kapoor and Saif Ali...\n",
       "54569    A ticket collector on Thursday allegedly bit o...\n",
       "54570    Aamir Khan, while talking about reality shows ...\n",
       "54571    The Maharashtra government has initiated an in...\n",
       "Name: text, Length: 54572, dtype: object"
      ]
     },
     "execution_count": 7,
     "metadata": {},
     "output_type": "execute_result"
    }
   ],
   "source": [
    "df.columns\n",
    "df.text"
   ]
  },
  {
   "cell_type": "code",
   "execution_count": 8,
   "id": "11a24442",
   "metadata": {},
   "outputs": [],
   "source": [
    "df['cleaned_text'] = df.text.apply(lambda x: text_strip(x))\n",
    "df['cleaned_headlines'] = df.headlines.apply(lambda x: '_START_ '+ text_strip(x) + ' _END_')\n",
    "df['cleaned_headlines'] = df['cleaned_headlines'].apply(lambda x: 'sostok ' + x + ' eostok')\n",
    "\n",
    "df = df[((df.cleaned_text.str.split().str.len()<=config['max_text_len']) & (df.cleaned_headlines.str.split().str.len()<=(config['max_summary_len']+4)))].copy()\n",
    "df = df.reset_index(drop=True)\n",
    "\n",
    "df = df.drop(['text', 'headlines'], axis=1)\n",
    "df = df.rename(columns = {'cleaned_text':'text', 'cleaned_headlines':'summary'})\n",
    "                                      "
   ]
  },
  {
   "cell_type": "code",
   "execution_count": 9,
   "id": "4ab0e47c",
   "metadata": {},
   "outputs": [],
   "source": [
    "\n",
    "X = df['text']\n",
    "Y = df['summary']\n",
    "\n",
    "x_train, x_test, y_train, y_test = train_test_split(X, Y, test_size=0.1, random_state=42)\n",
    "\n"
   ]
  },
  {
   "cell_type": "code",
   "execution_count": 10,
   "id": "fc4e051f",
   "metadata": {},
   "outputs": [
    {
     "name": "stdout",
     "output_type": "stream",
     "text": [
      "% of rare words in vocabulary: 64.15386975269716\n"
     ]
    },
    {
     "data": {
      "text/plain": [
       "(37641, 58673)"
      ]
     },
     "execution_count": 10,
     "metadata": {},
     "output_type": "execute_result"
    }
   ],
   "source": [
    "def get_rare_words(text_col):\n",
    "\n",
    "  text_tokenizer = Tokenizer()    \n",
    "  text_tokenizer.fit_on_texts(list(text_col))\n",
    "\n",
    "  thresh = 5\n",
    "\n",
    "  cnt = 0\n",
    "  tot_cnt = 0\n",
    "\n",
    "  for key, value in text_tokenizer.word_counts.items():\n",
    "      tot_cnt = tot_cnt + 1\n",
    "      if value < thresh:\n",
    "          cnt = cnt + 1\n",
    "\n",
    "  print(\"% of rare words in vocabulary:\",(cnt / tot_cnt) * 100)\n",
    "  \n",
    "  return cnt, tot_cnt\n",
    "\n",
    "x_train_cnt, x_train_tot_cnt = get_rare_words(text_col=x_train)\n",
    "x_train_cnt, x_train_tot_cnt"
   ]
  },
  {
   "cell_type": "code",
   "execution_count": 11,
   "id": "ae223919",
   "metadata": {},
   "outputs": [
    {
     "data": {
      "text/plain": [
       "'pakistani singer rahat fateh ali khan has denied receiving any notice from the enforcement directorate over allegedly smuggling foreign currency out of india it would have been better if the authorities would have served the notice first if any and then publicised this reads a press release issued on behalf of rahat the statement further called the allegation bizarre .'"
      ]
     },
     "execution_count": 11,
     "metadata": {},
     "output_type": "execute_result"
    }
   ],
   "source": [
    "x_tokenizer = Tokenizer(num_words=x_train_tot_cnt - x_train_cnt) \n",
    "\n",
    "x_tokenizer.fit_on_texts(list(x_train))\n",
    "\n",
    "x_tr_seq = x_tokenizer.texts_to_sequences(x_train) \n",
    "x_val_seq = x_tokenizer.texts_to_sequences(x_test)\n",
    "\n",
    "x_tr = pad_sequences(x_tr_seq,  maxlen=config['max_text_len'], padding='post')\n",
    "x_val = pad_sequences(x_val_seq, maxlen=config['max_text_len'], padding='post')\n",
    "\n",
    "x_voc = x_tokenizer.num_words + 1\n",
    "\n",
    "x_train[0]"
   ]
  },
  {
   "cell_type": "code",
   "execution_count": null,
   "id": "8ca7df9b",
   "metadata": {},
   "outputs": [],
   "source": []
  },
  {
   "cell_type": "code",
   "execution_count": null,
   "id": "e9331365",
   "metadata": {},
   "outputs": [],
   "source": []
  }
 ],
 "metadata": {
  "kernelspec": {
   "display_name": "Python 3",
   "language": "python",
   "name": "python3"
  },
  "language_info": {
   "codemirror_mode": {
    "name": "ipython",
    "version": 3
   },
   "file_extension": ".py",
   "mimetype": "text/x-python",
   "name": "python",
   "nbconvert_exporter": "python",
   "pygments_lexer": "ipython3",
   "version": "3.11.0"
  }
 },
 "nbformat": 4,
 "nbformat_minor": 5
}
